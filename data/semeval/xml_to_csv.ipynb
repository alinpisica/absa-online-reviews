{
 "cells": [
  {
   "cell_type": "code",
   "execution_count": 1,
   "metadata": {},
   "outputs": [],
   "source": [
    "import xml.etree.ElementTree as Xet\n",
    "import csv"
   ]
  },
  {
   "cell_type": "code",
   "execution_count": 2,
   "metadata": {},
   "outputs": [],
   "source": [
    "def encode_polarity(polarity):\n",
    "    if polarity == 'neutral':\n",
    "        return 2\n",
    "    if polarity == 'positive':\n",
    "        return 1\n",
    "    if polarity == 'negative':\n",
    "        return 0"
   ]
  },
  {
   "cell_type": "code",
   "execution_count": 3,
   "metadata": {},
   "outputs": [],
   "source": [
    "def parseRestaurantsReviewsXml(input_file, output_file):\n",
    "    xmlparse = Xet.parse(input_file)\n",
    "\n",
    "    root = xmlparse.getroot()\n",
    "\n",
    "    with open(output_file, mode='w', newline='', encoding='utf-8') as train_csv:\n",
    "        csv_writer = csv.writer(train_csv, delimiter=',')\n",
    "\n",
    "        csv_writer.writerow(['Review', 'Polarity'])\n",
    "\n",
    "        for review in root:\n",
    "            for sentence in review.find(\"sentences\"):\n",
    "                ops = sentence.find(\"Opinions\")\n",
    "\n",
    "                # If the current opinion has no polarity we will consider it 'neutral'\n",
    "                polarity = \"neutral\"\n",
    "\n",
    "                # Retrieving the list of all polarities present in the current opinion\n",
    "                if ops is not None and len(ops) > 0:\n",
    "                    pols_for_opinion = list(map(lambda op: op.get(\"polarity\"), ops))\n",
    "                    most_frequent_polarity = max(set(pols_for_opinion), key = pols_for_opinion.count)\n",
    "\n",
    "                    polarity = most_frequent_polarity\n",
    "                \n",
    "                # Replace comma with semicolon - simplify saving data to csv\n",
    "                text = sentence.find(\"text\").text.replace(\",\", \";\")\n",
    "\n",
    "                # if polarity != 'neutral':\n",
    "                csv_writer.writerow([text, encode_polarity(polarity)])"
   ]
  },
  {
   "cell_type": "code",
   "execution_count": 4,
   "metadata": {},
   "outputs": [],
   "source": [
    "parseRestaurantsReviewsXml('./semeval16_restaurants_train.xml', 'semeval_train_data.csv')\n",
    "parseRestaurantsReviewsXml('./EN_REST_SB1_TEST.xml', 'semeval_test_data.csv')"
   ]
  }
 ],
 "metadata": {
  "interpreter": {
   "hash": "14b06f51e1cbc0c571ed0d5d23b79399e55bb5daffcd15f7b50cd42c7a27173d"
  },
  "kernelspec": {
   "display_name": "Python 3.9.6 64-bit ('ds': conda)",
   "name": "python3"
  },
  "language_info": {
   "codemirror_mode": {
    "name": "ipython",
    "version": 3
   },
   "file_extension": ".py",
   "mimetype": "text/x-python",
   "name": "python",
   "nbconvert_exporter": "python",
   "pygments_lexer": "ipython3",
   "version": "3.9.6"
  },
  "orig_nbformat": 4
 },
 "nbformat": 4,
 "nbformat_minor": 2
}
