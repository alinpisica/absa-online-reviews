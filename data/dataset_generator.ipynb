{
 "cells": [
  {
   "cell_type": "markdown",
   "source": [
    "# Import Dependencies"
   ],
   "metadata": {}
  },
  {
   "cell_type": "code",
   "execution_count": 1,
   "source": [
    "import os\r\n",
    "import xml.etree.ElementTree as ET"
   ],
   "outputs": [],
   "metadata": {}
  },
  {
   "cell_type": "markdown",
   "source": [
    "## Classes"
   ],
   "metadata": {}
  },
  {
   "cell_type": "code",
   "execution_count": 2,
   "source": [
    "class Opinion:\r\n",
    "    def __init__(self, target, category, polarity, start, end):\r\n",
    "        self.target = target\r\n",
    "        self.category = category\r\n",
    "        self.polarity = polarity\r\n",
    "        self.start = start\r\n",
    "        self.end = end"
   ],
   "outputs": [],
   "metadata": {}
  },
  {
   "cell_type": "code",
   "execution_count": 3,
   "source": [
    "class Sentence:\r\n",
    "    def __init__(self, text, opinions):\r\n",
    "        self.text = text\r\n",
    "        self.opinions = opinions"
   ],
   "outputs": [],
   "metadata": {}
  },
  {
   "cell_type": "code",
   "execution_count": 4,
   "source": [
    "class Review:\r\n",
    "    def __init__(self, sentences):\r\n",
    "        self.sentences = sentences"
   ],
   "outputs": [],
   "metadata": {}
  },
  {
   "cell_type": "code",
   "execution_count": 10,
   "source": [
    "xml_data = open(os.path.join('semeval16_restaurants_train.xml'), 'r').read()\r\n",
    "root = ET.XML(xml_data)\r\n",
    "\r\n",
    "reviews = []\r\n",
    "\r\n",
    "for _, review in enumerate(root):\r\n",
    "    current_sentences = []\r\n",
    "\r\n",
    "    for _, sentences in enumerate(review):\r\n",
    "        for _, sentence in enumerate(sentences):\r\n",
    "            opinions = []\r\n",
    "            text = \"\"\r\n",
    "\r\n",
    "            for _, sentence_children in enumerate(sentence):\r\n",
    "                if sentence_children.tag == 'Opinions':\r\n",
    "                    for _, opinion in enumerate(sentence_children):\r\n",
    "                        op = Opinion(\r\n",
    "                            target = opinion.attrib[\"target\"] if \"target\" in opinion.attrib else \"\",\r\n",
    "                            category = opinion.attrib[\"category\"] if \"category\" in opinion.attrib else \"\",\r\n",
    "                            polarity = opinion.attrib[\"polarity\"] if \"polarity\" in opinion.attrib else \"\",\r\n",
    "                            start = opinion.attrib[\"from\"] if \"from\" in opinion.attrib else \"\",\r\n",
    "                            end = opinion.attrib[\"to\"] if \"to\" in opinion.attrib else \"\"\r\n",
    "                        )\r\n",
    "                        opinions.append(op)\r\n",
    "                if sentence_children.tag == \"text\":\r\n",
    "                    text = sentence_children.text\r\n",
    "                    # text = ''\r\n",
    "\r\n",
    "            sen = Sentence(text, opinions)\r\n",
    "            current_sentences.append(sen)\r\n",
    "            \r\n",
    "    newReview = Review(current_sentences)\r\n",
    "    reviews.append(newReview)"
   ],
   "outputs": [],
   "metadata": {}
  },
  {
   "cell_type": "code",
   "execution_count": 11,
   "source": [
    "print(len(reviews))"
   ],
   "outputs": [
    {
     "output_type": "stream",
     "name": "stdout",
     "text": [
      "350\n"
     ]
    }
   ],
   "metadata": {}
  },
  {
   "cell_type": "code",
   "execution_count": 12,
   "source": [
    "os.mkdir('train')\r\n",
    "os.mkdir('train/pos')\r\n",
    "os.mkdir('train/neg')\r\n",
    "\r\n",
    "idx = 1\r\n",
    "\r\n",
    "for review in reviews:\r\n",
    "    for sentence in review.sentences:\r\n",
    "        if (len(sentence.opinions) == 0):\r\n",
    "            continue\r\n",
    "\r\n",
    "        if (sentence.opinions[0].polarity == 'negative'):\r\n",
    "            f = open(\"train/neg/{index}.txt\".format(index = idx), \"w\")\r\n",
    "            f.write(sentence.text)\r\n",
    "            f.close()\r\n",
    "        if (sentence.opinions[0].polarity == 'positive'):\r\n",
    "            f = open(\"train/pos/{index}.txt\".format(index = idx), \"w\")\r\n",
    "            f.write(sentence.text)\r\n",
    "            f.close()\r\n",
    "\r\n",
    "        idx = idx + 1"
   ],
   "outputs": [],
   "metadata": {}
  }
 ],
 "metadata": {
  "orig_nbformat": 4,
  "language_info": {
   "name": "python",
   "version": "3.9.6",
   "mimetype": "text/x-python",
   "codemirror_mode": {
    "name": "ipython",
    "version": 3
   },
   "pygments_lexer": "ipython3",
   "nbconvert_exporter": "python",
   "file_extension": ".py"
  },
  "kernelspec": {
   "name": "python3",
   "display_name": "Python 3.9.6 64-bit ('ds': conda)"
  },
  "interpreter": {
   "hash": "14b06f51e1cbc0c571ed0d5d23b79399e55bb5daffcd15f7b50cd42c7a27173d"
  }
 },
 "nbformat": 4,
 "nbformat_minor": 2
}